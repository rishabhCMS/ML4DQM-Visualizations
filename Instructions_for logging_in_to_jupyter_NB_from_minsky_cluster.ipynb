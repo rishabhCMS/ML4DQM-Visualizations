{
 "cells": [
  {
   "cell_type": "code",
   "execution_count": 1,
   "metadata": {},
   "outputs": [
    {
     "name": "stdout",
     "output_type": "stream",
     "text": [
      "Welcome to JupyROOT 6.18/04\n"
     ]
    }
   ],
   "source": [
    "import ROOT"
   ]
  },
  {
   "cell_type": "markdown",
   "metadata": {},
   "source": [
    "### steps to follow to login to the jupyter NB on IBM cluster"
   ]
  },
  {
   "cell_type": "raw",
   "metadata": {},
   "source": [
    "IMPORTANT replace 'runiyal' by user cern user name\n",
    "\n",
    "0. Manual Proxy on you web brower [FireFox]. go to preferences->search proxy > manual proxy \n",
    "    a. sockhost = localhost    port = 9999 (port number should be the same as you used for Dynamic port forwarding in [1]\n",
    "    b. Socksv5 should be selected\n",
    "    c. everything else should be unselected\n",
    "\n",
    "1. ssh -D9999 runiyal@lxplus.cern.ch\n",
    "\n",
    "2. paste the following command on the lxplus terminal \n",
    "NAME=runiyal; PORT=$(( 10000 + ( RANDOM % 10000 ) )); ssh -o ProxyCommand=\"ssh -W %h:%p $NAME@ibmminsky-head\" $NAME@ibmminsky-2 -L $PORT:localhost:$PORT /nfs/public/mschneid/cmssw-jupyter.sh $PORT -o PreferredAuthentications=password -o PubkeyAuthentication=no\n",
    "\n",
    "\n",
    "3.  Next you'll get something like\n",
    "    http://localhost:18393/notebooks/Untitled.ipynb?kernel_name=python2\n",
    "    depending on your token assigned\n",
    "4. copy this link and paste it on your web browser and happy jyptering with root cmssw\n"
   ]
  },
  {
   "cell_type": "code",
   "execution_count": 2,
   "metadata": {},
   "outputs": [],
   "source": [
    "!cp /nfs/public/mschneid/moredqmiodata.ipynb /nfs/public/$USER/mydqmiodata.ipynb"
   ]
  },
  {
   "cell_type": "code",
   "execution_count": 3,
   "metadata": {},
   "outputs": [
    {
     "name": "stdout",
     "output_type": "stream",
     "text": [
      "Instructions_for logging_in_to_jupyter_NB_from_minsky_cluster.ipynb\r\n",
      "mydqmiodata.ipynb\r\n"
     ]
    }
   ],
   "source": [
    "ls"
   ]
  },
  {
   "cell_type": "code",
   "execution_count": null,
   "metadata": {},
   "outputs": [],
   "source": []
  }
 ],
 "metadata": {
  "kernelspec": {
   "display_name": "Python 2",
   "language": "python",
   "name": "python2"
  },
  "language_info": {
   "codemirror_mode": {
    "name": "ipython",
    "version": 2
   },
   "file_extension": ".py",
   "mimetype": "text/x-python",
   "name": "python",
   "nbconvert_exporter": "python",
   "pygments_lexer": "ipython2",
   "version": "2.7.15+"
  }
 },
 "nbformat": 4,
 "nbformat_minor": 2
}
